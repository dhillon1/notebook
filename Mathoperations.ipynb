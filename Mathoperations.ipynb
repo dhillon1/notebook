{
  "nbformat": 4,
  "nbformat_minor": 0,
  "metadata": {
    "colab": {
      "name": "Mathoperations.ipynb",
      "provenance": []
    },
    "kernelspec": {
      "name": "python3",
      "display_name": "Python 3"
    }
  },
  "cells": [
    {
      "cell_type": "code",
      "metadata": {
        "colab": {
          "base_uri": "https://localhost:8080/"
        },
        "id": "tS7wAtoBw4gB",
        "outputId": "a6045a6e-ec46-4be7-8934-01a9fd08aa71"
      },
      "source": [
        "first_number  = int(input(\"Enter first number : \"))\n",
        "second_number = int(input(\"Enter second number : \"))\n",
        "\n",
        "def math(first, second):\n",
        "   \n",
        "   add(first,second)\n",
        "   subtract(first,second)\n",
        "   multiply(first,second)\n",
        "   divide(first,second)\n",
        "\n",
        "def add(first,second):\n",
        "  addition = first + second\n",
        "  print(\"Addition of first number and second number is {} \".format(addition))\n",
        "\n",
        "def subtract(first,second):\n",
        "  substraction = first - second\n",
        "  print(\"Substraction of second number from first number is {} \".format(substraction))\n",
        "\n",
        "\n",
        "def multiply(first,second):\n",
        "  multiplication = first * second\n",
        "  print(\"Multiplication of first number and second number is {} \".format(multiplication))\n",
        "\n",
        "def divide(first,second):\n",
        "  dividation = first / second\n",
        "  print(\"Dividation of first number by second number is {} \".format(dividation))\n",
        "\n",
        "math(first_number,second_number)\n"
      ],
      "execution_count": null,
      "outputs": [
        {
          "output_type": "stream",
          "text": [
            "Enter first number : 10\n",
            "Enter second number : 4\n",
            "Addition of first number and second number is 14 \n",
            "Substraction of second number from first number is 6 \n",
            "Multiplication of first number and second number is 40 \n",
            "Dividation of first number by second number is 2.5 \n"
          ],
          "name": "stdout"
        }
      ]
    }
  ]
}